{
 "cells": [
  {
   "cell_type": "code",
   "execution_count": 1,
   "id": "1c512e87",
   "metadata": {},
   "outputs": [],
   "source": [
    "## fixing ModuleNotFoundError in Jupyter Notebooks: Install PyPDF2 in your anaconda prompt: pip3 install PyPDF2\n",
    "#or !pip install PyPDF2\n",
    "import PyPDF2\n",
    "\n",
    "\n",
    "\n",
    "\n"
   ]
  },
  {
   "cell_type": "code",
   "execution_count": 7,
   "id": "955c0653",
   "metadata": {},
   "outputs": [
    {
     "ename": "AttributeError",
     "evalue": "'str' object has no attribute 'texto'",
     "output_type": "error",
     "traceback": [
      "\u001b[1;31m---------------------------------------------------------------------------\u001b[0m",
      "\u001b[1;31mAttributeError\u001b[0m                            Traceback (most recent call last)",
      "\u001b[1;32m<ipython-input-7-aaa0046a994c>\u001b[0m in \u001b[0;36m<module>\u001b[1;34m\u001b[0m\n\u001b[0;32m     24\u001b[0m \u001b[1;32mfor\u001b[0m \u001b[0mdoc\u001b[0m \u001b[1;32min\u001b[0m \u001b[0mlist_files\u001b[0m\u001b[1;33m:\u001b[0m\u001b[1;33m\u001b[0m\u001b[1;33m\u001b[0m\u001b[0m\n\u001b[0;32m     25\u001b[0m     \u001b[0mpage_num\u001b[0m \u001b[1;33m=\u001b[0m \u001b[0mdoc\u001b[0m\u001b[1;33m.\u001b[0m\u001b[0mnumPages\u001b[0m\u001b[1;33m\u001b[0m\u001b[1;33m\u001b[0m\u001b[0m\n\u001b[1;32m---> 26\u001b[1;33m     \u001b[0mdocumento\u001b[0m \u001b[1;33m=\u001b[0m \u001b[0mextract_all\u001b[0m\u001b[1;33m(\u001b[0m\u001b[0mpage_num\u001b[0m\u001b[1;33m,\u001b[0m \u001b[0mdoc\u001b[0m\u001b[1;33m)\u001b[0m\u001b[1;33m\u001b[0m\u001b[1;33m\u001b[0m\u001b[0m\n\u001b[0m\u001b[0;32m     27\u001b[0m \u001b[1;33m\u001b[0m\u001b[0m\n\u001b[0;32m     28\u001b[0m \u001b[1;33m\u001b[0m\u001b[0m\n",
      "\u001b[1;32m<ipython-input-7-aaa0046a994c>\u001b[0m in \u001b[0;36mextract_all\u001b[1;34m(pages, file)\u001b[0m\n\u001b[0;32m     17\u001b[0m         \u001b[0mpageObj\u001b[0m \u001b[1;33m=\u001b[0m \u001b[0mfile\u001b[0m\u001b[1;33m.\u001b[0m\u001b[0mgetPage\u001b[0m\u001b[1;33m(\u001b[0m\u001b[0mi\u001b[0m\u001b[1;33m)\u001b[0m\u001b[1;33m\u001b[0m\u001b[1;33m\u001b[0m\u001b[0m\n\u001b[0;32m     18\u001b[0m         \u001b[1;31m# extracting text from page\u001b[0m\u001b[1;33m\u001b[0m\u001b[1;33m\u001b[0m\u001b[1;33m\u001b[0m\u001b[0m\n\u001b[1;32m---> 19\u001b[1;33m         \u001b[0mpageObj\u001b[0m\u001b[1;33m.\u001b[0m\u001b[0mextractText\u001b[0m\u001b[1;33m(\u001b[0m\u001b[1;33m)\u001b[0m\u001b[1;33m.\u001b[0m\u001b[0mtexto\u001b[0m\u001b[1;33m.\u001b[0m\u001b[0mappend\u001b[0m\u001b[1;33m(\u001b[0m\u001b[1;33m)\u001b[0m\u001b[1;33m\u001b[0m\u001b[1;33m\u001b[0m\u001b[0m\n\u001b[0m\u001b[0;32m     20\u001b[0m \u001b[1;33m\u001b[0m\u001b[0m\n\u001b[0;32m     21\u001b[0m \u001b[1;33m\u001b[0m\u001b[0m\n",
      "\u001b[1;31mAttributeError\u001b[0m: 'str' object has no attribute 'texto'"
     ]
    }
   ],
   "source": [
    "from pathlib import Path\n",
    "\n",
    "PATH = Path('.').resolve()\n",
    "import PyPDF2 as pdf2\n",
    "\n",
    "pdf1 = pdf2.PdfFileReader('documentos_consulta/Constituição.pdf', 'rb')\n",
    "pdf3 = pdf2.PdfFileReader('documentos_consulta/L12187.pdf')\n",
    "pdf4 = pdf2.PdfFileReader('documentos_consulta/L12305.pdf')\n",
    "pdf5 = pdf2.PdfFileReader('documentos_consulta/L6938.pdf')\n",
    "pdf6 = pdf2.PdfFileReader('documentos_consulta/L7804.pdf')\n",
    "pdf7 = pdf2.PdfFileReader('documentos_consulta/L8028.pdf')\n",
    "\n",
    "\n",
    "def extract_all(pages, file):\n",
    "    for i in range(150, pages):\n",
    "        # creating a page object \n",
    "        pageObj = file.getPage(i)\n",
    "        # extracting text from page \n",
    "        pageObj.extractText().texto.append()\n",
    "        \n",
    "    \n",
    "\n",
    "list_files = (pdf1, pdf3, pdf4, pdf5, pdf6, pdf7)\n",
    "for doc in list_files:\n",
    "    page_num = doc.numPages\n",
    "    documento = extract_all(page_num, doc)\n",
    "     \n",
    "\n",
    "documento\n"
   ]
  },
  {
   "cell_type": "code",
   "execution_count": 9,
   "id": "57f698ed",
   "metadata": {},
   "outputs": [
    {
     "name": "stdout",
     "output_type": "stream",
     "text": [
      "168\n",
      "\n"
     ]
    }
   ],
   "source": [
    "# creating a pdf file object \n",
    "pdfFileObj = open('documentos_consulta/Constituição.pdf', 'rb') \n",
    "    \n",
    "# creating a pdf reader object \n",
    "pdfReader = pdf2.PdfFileReader(pdfFileObj) \n",
    "    \n",
    "# printing number of pages in pdf file \n",
    "print(pdfReader.numPages) \n",
    "    \n",
    "# creating a page object \n",
    "pageObj = pdfReader.getPage(0) \n",
    "    \n",
    "# extracting text from page \n",
    "print(pageObj.extractText()) \n",
    "    \n",
    "# closing the pdf file object \n",
    "pdfFileObj.close() "
   ]
  },
  {
   "cell_type": "code",
   "execution_count": null,
   "id": "833bd618",
   "metadata": {},
   "outputs": [],
   "source": []
  }
 ],
 "metadata": {
  "kernelspec": {
   "display_name": "Python 3",
   "language": "python",
   "name": "python3"
  },
  "language_info": {
   "codemirror_mode": {
    "name": "ipython",
    "version": 3
   },
   "file_extension": ".py",
   "mimetype": "text/x-python",
   "name": "python",
   "nbconvert_exporter": "python",
   "pygments_lexer": "ipython3",
   "version": "3.8.8"
  }
 },
 "nbformat": 4,
 "nbformat_minor": 5
}
